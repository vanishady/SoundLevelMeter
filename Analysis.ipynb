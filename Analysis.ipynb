{
 "cells": [
  {
   "cell_type": "markdown",
   "metadata": {},
   "source": [
    "# Data Analysis\n",
    "\n",
    "Here we analyze the data we have gained in the previous medidas (1,2,3)."
   ]
  },
  {
   "cell_type": "code",
   "execution_count": 18,
   "metadata": {},
   "outputs": [],
   "source": [
    "import os\n",
    "\n",
    "#Listado de colores para que el texto salga bonito por pantalla.\n",
    "Red = '\\033[91m'\n",
    "Green = '\\033[92m'\n",
    "Blue = '\\033[94m'\n",
    "Cyan = '\\033[96m'\n",
    "White = '\\033[97m'\n",
    "Yellow = '\\033[93m'\n",
    "Magenta = '\\033[95m'\n",
    "Grey = '\\033[90m'\n",
    "Black = '\\033[90m'\n",
    "Default = '\\033[99m'\n",
    "\n",
    "# paths to data directories. \n",
    "path_1 = 'log_files/medida_1'\n",
    "path_2 = 'log_files/medida_2'\n",
    "path_3 = 'log_files/medida_3'\n",
    "\n",
    "if not os.path.exists(path_1):\n",
    "    print(Yellow + 'Could not find path to medida 1 data')\n",
    "if not os.path.exists(path_2):\n",
    "    print(Yellow + 'Could not find path to medida 2 data')\n",
    "if not os.path.exists(path_3):\n",
    "    print(Yellow + 'Could not find path to medida 3 data')\n"
   ]
  },
  {
   "cell_type": "markdown",
   "metadata": {},
   "source": [
    "### Medida 1 data\n",
    "Would like to plot diagram with distribution of global mean and max over hours and days."
   ]
  },
  {
   "cell_type": "code",
   "execution_count": 19,
   "metadata": {},
   "outputs": [
    {
     "name": "stdout",
     "output_type": "stream",
     "text": [
      "\u001b[97mtype_2 Wed 2025-03-26 12h27m28s.json\n",
      "\u001b[96mMean: 34.841366666666666\n",
      "\u001b[95mPeak: 48.8\n",
      "\u001b[95mStdev (calculated along peak values): 2.075598200251891\n",
      "\u001b[97mtype_2 Wed 2025-03-26 16h42m51s.json\n",
      "\u001b[96mMean: 39.80903333333333\n",
      "\u001b[95mPeak: 50.2\n",
      "\u001b[95mStdev (calculated along peak values): 2.594879123710133\n",
      "\u001b[97mtype_2 Wed 2025-03-26 18h43m49s.json\n",
      "\u001b[96mMean: 41.94266666666667\n",
      "\u001b[95mPeak: 55.4\n",
      "\u001b[95mStdev (calculated along peak values): 1.1316541972803449\n"
     ]
    }
   ],
   "source": [
    "# plot graphs for difference between laborales y fin de semana\n",
    "import json\n",
    "import numpy as np\n",
    "import matplotlib.pyplot as plt\n",
    "\n",
    "# Load files from folders\n",
    "files = os.listdir(path_1)\n",
    "\n",
    "for fn in files:\n",
    "    #print(Grey+fn)\n",
    "    splitted_fn = fn.split(' ')\n",
    "    #print(splitted_fn)\n",
    "    fn_type = splitted_fn[0]\n",
    "    fn_day = splitted_fn[1]\n",
    "    fn_date = splitted_fn[2]\n",
    "    fn_hour = splitted_fn[3]\n",
    "\n",
    "    # Store means relative to certain day and hour\n",
    "    if fn_type == 'type_2' and fn_day == 'Wed':\n",
    "        with open(path_1+'/'+fn, 'r') as f:\n",
    "            data = json.load(f)\n",
    "        print(White+fn)\n",
    "        means = [m['mean'] for m in data]\n",
    "        global_mean = np.mean(means)\n",
    "        print(Cyan+f'Mean: {global_mean}')\n",
    "        peaks = [p['max'] for p in data]\n",
    "        print(Magenta+f'Peak: {max(peaks)}')\n",
    "        stdev = np.std(peaks)\n",
    "        print(Magenta+f'Stdev (calculated along peak values): {stdev}')\n",
    "        \n",
    "    "
   ]
  },
  {
   "cell_type": "markdown",
   "metadata": {},
   "source": [
    "### Medida 2 data\n",
    "Would like to plot diagram with distribution of global mean and max over hours and days."
   ]
  },
  {
   "cell_type": "code",
   "execution_count": 20,
   "metadata": {},
   "outputs": [
    {
     "name": "stdout",
     "output_type": "stream",
     "text": [
      "\u001b[97mtype_2 Wed 2025-03-26 12h07m22s.json\n",
      "\u001b[96mMean: 41.4943\n",
      "\u001b[95mPeak: 55.6\n",
      "\u001b[95mStdev (calculated along peak values): 3.6537843243531616\n",
      "\u001b[97mtype_2 Wed 2025-03-26 16h50m45s.json\n",
      "\u001b[96mMean: 42.9799\n",
      "\u001b[95mPeak: 58.3\n",
      "\u001b[95mStdev (calculated along peak values): 1.872078939456228\n",
      "\u001b[97mtype_2 Wed 2025-03-26 18h36m30s.json\n",
      "\u001b[96mMean: 44.38413333333333\n",
      "\u001b[95mPeak: 55.3\n",
      "\u001b[95mStdev (calculated along peak values): 1.843422420993686\n"
     ]
    }
   ],
   "source": [
    "# Load files from folders\n",
    "files = os.listdir(path_2)\n",
    "\n",
    "for fn in files:\n",
    "    #print(Grey+fn)\n",
    "    splitted_fn = fn.split(' ')\n",
    "    #print(splitted_fn)\n",
    "    fn_type = splitted_fn[0]\n",
    "    fn_day = splitted_fn[1]\n",
    "    fn_date = splitted_fn[2]\n",
    "    fn_hour = splitted_fn[3]\n",
    "\n",
    "    # Store means relative to certain day and hour\n",
    "    if fn_type == 'type_2' and fn_day == 'Wed':\n",
    "        with open(path_2+'/'+fn, 'r') as f:\n",
    "            data = json.load(f)\n",
    "        print(White+fn)\n",
    "        means = [m['mean'] for m in data]\n",
    "        global_mean = np.mean(means)\n",
    "        print(Cyan+f'Mean: {global_mean}')\n",
    "        peaks = [p['max'] for p in data]\n",
    "        print(Magenta+f'Peak: {max(peaks)}')\n",
    "        stdev = np.std(peaks)\n",
    "        print(Magenta+f'Stdev (calculated along peak values): {stdev}')"
   ]
  }
 ],
 "metadata": {
  "kernelspec": {
   "display_name": "ELECTRO",
   "language": "python",
   "name": "python3"
  },
  "language_info": {
   "codemirror_mode": {
    "name": "ipython",
    "version": 3
   },
   "file_extension": ".py",
   "mimetype": "text/x-python",
   "name": "python",
   "nbconvert_exporter": "python",
   "pygments_lexer": "ipython3",
   "version": "3.11.11"
  }
 },
 "nbformat": 4,
 "nbformat_minor": 4
}
