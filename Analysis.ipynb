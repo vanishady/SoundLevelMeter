{
 "cells": [
  {
   "cell_type": "markdown",
   "metadata": {},
   "source": [
    "# Data Analysis\n",
    "\n",
    "Here we analyze the data we have gained in the previous medidas (1,2,3)."
   ]
  },
  {
   "cell_type": "code",
   "execution_count": 2,
   "metadata": {},
   "outputs": [],
   "source": [
    "import os\n",
    "\n",
    "#Listado de colores para que el texto salga bonito por pantalla.\n",
    "Red = '\\033[91m'\n",
    "Green = '\\033[92m'\n",
    "Blue = '\\033[94m'\n",
    "Cyan = '\\033[96m'\n",
    "White = '\\033[97m'\n",
    "Yellow = '\\033[93m'\n",
    "Magenta = '\\033[95m'\n",
    "Grey = '\\033[90m'\n",
    "Black = '\\033[90m'\n",
    "Default = '\\033[99m'\n",
    "\n",
    "# paths to data directories. \n",
    "path_1 = 'log_files/medida_1'\n",
    "path_2 = 'log_files/medida_2'\n",
    "path_3 = 'log_files/medida_3'\n",
    "\n",
    "if not os.path.exists(path_1):\n",
    "    print(Yellow + 'Could not find path to medida 1 data')\n",
    "if not os.path.exists(path_2):\n",
    "    print(Yellow + 'Could not find path to medida 2 data')\n",
    "if not os.path.exists(path_3):\n",
    "    print(Yellow + 'Could not find path to medida 3 data')\n"
   ]
  },
  {
   "cell_type": "code",
   "execution_count": null,
   "metadata": {},
   "outputs": [
    {
     "name": "stdout",
     "output_type": "stream",
     "text": [
      "type_1 Mon 2025-03-18 19h38m23s.json\n",
      "['type_1', 'Mon', '2025-03-18', '19h38m23s.json']\n",
      "Mean: -5.281000000000001\n",
      "type_1 Tue 2025-03-18 19h38m23s.json\n",
      "['type_1', 'Tue', '2025-03-18', '19h38m23s.json']\n",
      "type_2 Tue 2025-03-18 20h22m16s.json\n",
      "['type_2', 'Tue', '2025-03-18', '20h22m16s.json']\n"
     ]
    }
   ],
   "source": [
    "# plot graphs for difference between laborales y fin de semana\n",
    "import json\n",
    "import numpy as np\n",
    "import matplotlib.pyplot as plt\n",
    "\n",
    "# Load files from folders\n",
    "files = os.listdir(path_1)\n",
    "\n",
    "for fn in files:\n",
    "    print(fn)\n",
    "    splitted_fn = fn.split(' ')\n",
    "    print(splitted_fn)\n",
    "    fn_type = splitted_fn[0]\n",
    "    fn_day = splitted_fn[1]\n",
    "    fn_date = splitted_fn[2]\n",
    "    fn_hour = splitted_fn[3]\n",
    "\n",
    "    # Store means relative to certain day and hour\n",
    "    if fn_type == 'type_2' and fn_day == 'Mon':\n",
    "        with open(path_1+'/'+fn, 'r') as f:\n",
    "            data = json.load(f)\n",
    "        means = [m['mean'] for m in data]\n",
    "        global_mean = np.mean(means)\n",
    "        print(f'Mean: {global_mean}')\n",
    "        \n",
    "    \n",
    "    \n",
    "\n",
    "\n",
    "# Function to calculate the mean, max and min of a list of numbers"
   ]
  }
 ],
 "metadata": {
  "kernelspec": {
   "display_name": "ELECTRO",
   "language": "python",
   "name": "python3"
  },
  "language_info": {
   "codemirror_mode": {
    "name": "ipython",
    "version": 3
   },
   "file_extension": ".py",
   "mimetype": "text/x-python",
   "name": "python",
   "nbconvert_exporter": "python",
   "pygments_lexer": "ipython3",
   "version": "3.11.11"
  }
 },
 "nbformat": 4,
 "nbformat_minor": 4
}
