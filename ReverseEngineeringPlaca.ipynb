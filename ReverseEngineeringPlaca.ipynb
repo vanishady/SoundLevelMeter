{
 "cells": [
  {
   "cell_type": "markdown",
   "metadata": {},
   "source": [
    "# Fotos del interior del Sonómetro AZ-Instruments 8922"
   ]
  },
  {
   "cell_type": "markdown",
   "metadata": {},
   "source": [
    "![imagen1](FotosPCB/PIC047.JPG)\n",
    "\n",
    "![imagen1](FotosPCB/PIC048.JPG)\n",
    "\n",
    "![imagen1](FotosPCB/PIC049.JPG)\n",
    "\n",
    "![imagen1](FotosPCB/PIC050.JPG)\n",
    "\n",
    "![imagen1](FotosPCB/PIC051.JPG)\n",
    "\n",
    "![imagen1](FotosPCB/PIC052.JPG)\n",
    "\n",
    "![imagen1](FotosPCB/PIC053.JPG)\n",
    "\n",
    "![imagen1](FotosPCB/PIC054.JPG)\n",
    "\n",
    "![imagen1](FotosPCB/PIC055.JPG)\n",
    "\n",
    "![imagen1](FotosPCB/PIC056.JPG)\n",
    "\n",
    "![imagen1](FotosPCB/PIC057.JPG)\n",
    "\n",
    "![imagen1](FotosPCB/PIC058.JPG)\n",
    "\n",
    "![imagen1](FotosPCB/PIC059.JPG)\n",
    "\n",
    "![imagen1](FotosPCB/PIC060.JPG)\n",
    "\n",
    "![imagen1](FotosPCB/PIC061.JPG)\n",
    "\n",
    "![imagen1](FotosPCB/PIC062.JPG)\n"
   ]
  },
  {
   "cell_type": "code",
   "execution_count": null,
   "metadata": {},
   "outputs": [],
   "source": []
  }
 ],
 "metadata": {
  "kernelspec": {
   "display_name": "Python 3",
   "language": "python",
   "name": "python3"
  },
  "language_info": {
   "codemirror_mode": {
    "name": "ipython",
    "version": 3
   },
   "file_extension": ".py",
   "mimetype": "text/x-python",
   "name": "python",
   "nbconvert_exporter": "python",
   "pygments_lexer": "ipython3",
   "version": "3.9.2"
  }
 },
 "nbformat": 4,
 "nbformat_minor": 4
}
